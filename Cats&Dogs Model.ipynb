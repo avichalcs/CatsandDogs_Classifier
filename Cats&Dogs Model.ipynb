{
 "cells": [
  {
   "cell_type": "code",
   "execution_count": 1,
   "metadata": {},
   "outputs": [],
   "source": [
    "import tensorflow as tf\n",
    "from tensorflow.keras.models import Sequential\n",
    "from tensorflow.keras.layers import Dense, Dropout, Activation, Flatten, Conv2D, MaxPooling2D\n",
    "import pickle"
   ]
  },
  {
   "cell_type": "code",
   "execution_count": 2,
   "metadata": {},
   "outputs": [],
   "source": [
    "x= pickle.load(open(\"x.pickle\",\"rb\"))\n",
    "y= pickle.load(open(\"y.pickle\",\"rb\"))"
   ]
  },
  {
   "cell_type": "code",
   "execution_count": 3,
   "metadata": {},
   "outputs": [
    {
     "name": "stdout",
     "output_type": "stream",
     "text": [
      "WARNING:tensorflow:From C:\\Users\\DELL\\Anaconda3\\envs\\tensorflow_env\\lib\\site-packages\\tensorflow\\python\\ops\\resource_variable_ops.py:435: colocate_with (from tensorflow.python.framework.ops) is deprecated and will be removed in a future version.\n",
      "Instructions for updating:\n",
      "Colocations handled automatically by placer.\n",
      "Train on 22451 samples, validate on 2495 samples\n",
      "WARNING:tensorflow:From C:\\Users\\DELL\\Anaconda3\\envs\\tensorflow_env\\lib\\site-packages\\tensorflow\\python\\ops\\math_ops.py:3066: to_int32 (from tensorflow.python.ops.math_ops) is deprecated and will be removed in a future version.\n",
      "Instructions for updating:\n",
      "Use tf.cast instead.\n",
      "Epoch 1/10\n",
      "22451/22451 [==============================] - 1096s 49ms/sample - loss: 0.6675 - acc: 0.5837 - val_loss: 0.6163 - val_acc: 0.6894\n",
      "Epoch 2/10\n",
      "22451/22451 [==============================] - 1118s 50ms/sample - loss: 0.5269 - acc: 0.7389 - val_loss: 0.4564 - val_acc: 0.7820\n",
      "Epoch 3/10\n",
      "22451/22451 [==============================] - 1064s 47ms/sample - loss: 0.4309 - acc: 0.7983 - val_loss: 0.3995 - val_acc: 0.8084\n",
      "Epoch 4/10\n",
      "22451/22451 [==============================] - 1011s 45ms/sample - loss: 0.3640 - acc: 0.8389 - val_loss: 0.3729 - val_acc: 0.8240\n",
      "Epoch 5/10\n",
      "22451/22451 [==============================] - 982s 44ms/sample - loss: 0.3073 - acc: 0.8666 - val_loss: 0.3872 - val_acc: 0.8261\n",
      "Epoch 6/10\n",
      "22451/22451 [==============================] - 977s 44ms/sample - loss: 0.2750 - acc: 0.8837 - val_loss: 0.3787 - val_acc: 0.8236\n",
      "Epoch 7/10\n",
      "22451/22451 [==============================] - 996s 44ms/sample - loss: 0.2333 - acc: 0.9021 - val_loss: 0.3519 - val_acc: 0.8493\n",
      "Epoch 8/10\n",
      "22451/22451 [==============================] - 1032s 46ms/sample - loss: 0.1971 - acc: 0.9184 - val_loss: 0.3253 - val_acc: 0.8577\n",
      "Epoch 9/10\n",
      "22451/22451 [==============================] - 907s 40ms/sample - loss: 0.1724 - acc: 0.9288 - val_loss: 0.3232 - val_acc: 0.8645\n",
      "Epoch 10/10\n",
      "22451/22451 [==============================] - 966s 43ms/sample - loss: 0.1544 - acc: 0.9376 - val_loss: 0.4483 - val_acc: 0.8128\n"
     ]
    },
    {
     "data": {
      "text/plain": [
       "<tensorflow.python.keras.callbacks.History at 0x28b0c29d9e8>"
      ]
     },
     "execution_count": 3,
     "metadata": {},
     "output_type": "execute_result"
    }
   ],
   "source": [
    "x= x/255.0\n",
    "model= Sequential()\n",
    "model.add(Conv2D(128,(3,3),input_shape= x.shape[1:]))\n",
    "model.add(Activation(\"relu\"))\n",
    "model.add(MaxPooling2D(pool_size=(2,2)))\n",
    "\n",
    "model.add(Conv2D(128,(3,3)))\n",
    "model.add(Activation(\"relu\"))\n",
    "model.add(MaxPooling2D(pool_size=(2,2)))\n",
    "\n",
    "model.add(Conv2D(128,(3,3)))\n",
    "model.add(Activation(\"relu\"))\n",
    "model.add(MaxPooling2D(pool_size=(2,2)))\n",
    "\n",
    "model.add(Conv2D(128,(3,3)))\n",
    "model.add(Activation(\"relu\"))\n",
    "model.add(MaxPooling2D(pool_size=(2,2)))\n",
    "\n",
    "model.add(Flatten())\n",
    "model.add(Dense(64))\n",
    "\n",
    "model.add(Dense(1))\n",
    "model.add(Activation('sigmoid'))\n",
    "\n",
    "model.compile(loss=\"binary_crossentropy\",\n",
    "             optimizer= \"adam\",\n",
    "             metrics=[\"accuracy\"])\n",
    "\n",
    "model.fit(x,y, batch_size=32,epochs=10, validation_split=0.1)"
   ]
  },
  {
   "cell_type": "code",
   "execution_count": 4,
   "metadata": {},
   "outputs": [],
   "source": [
    "model.save(\"C&D Classifier\")"
   ]
  }
 ],
 "metadata": {
  "kernelspec": {
   "display_name": "Python 3",
   "language": "python",
   "name": "python3"
  },
  "language_info": {
   "codemirror_mode": {
    "name": "ipython",
    "version": 3
   },
   "file_extension": ".py",
   "mimetype": "text/x-python",
   "name": "python",
   "nbconvert_exporter": "python",
   "pygments_lexer": "ipython3",
   "version": "3.7.2"
  }
 },
 "nbformat": 4,
 "nbformat_minor": 2
}
