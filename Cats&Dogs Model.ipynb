{
 "cells": [
  {
   "cell_type": "code",
   "execution_count": 1,
   "metadata": {},
   "outputs": [],
   "source": [
    "import tensorflow as tf\n",
    "from tensorflow.keras.models import Sequential\n",
    "from tensorflow.keras.layers import Dense, Dropout, Activation, Flatten, Conv2D, MaxPooling2D\n",
    "import pickle"
   ]
  },
  {
   "cell_type": "code",
   "execution_count": 2,
   "metadata": {},
   "outputs": [],
   "source": [
    "x= pickle.load(open(\"x.pickle\",\"rb\"))\n",
    "y= pickle.load(open(\"y.pickle\",\"rb\"))"
   ]
  },
  {
   "cell_type": "code",
   "execution_count": 3,
   "metadata": {},
   "outputs": [
    {
     "name": "stdout",
     "output_type": "stream",
     "text": [
      "Train on 22451 samples, validate on 2495 samples\n",
      "Epoch 1/10\n",
      "22451/22451 [==============================] - 2399s 107ms/step - loss: 0.6593 - acc: 0.5943 - val_loss: 0.5931 - val_acc: 0.6802\n",
      "Epoch 2/10\n",
      "22451/22451 [==============================] - 2171s 97ms/step - loss: 0.5169 - acc: 0.7422 - val_loss: 0.4977 - val_acc: 0.7635\n",
      "Epoch 3/10\n",
      "22451/22451 [==============================] - 2185s 97ms/step - loss: 0.4226 - acc: 0.8048 - val_loss: 0.4129 - val_acc: 0.8048\n",
      "Epoch 4/10\n",
      "22451/22451 [==============================] - 2226s 99ms/step - loss: 0.3594 - acc: 0.8397 - val_loss: 0.3648 - val_acc: 0.8329\n",
      "Epoch 5/10\n",
      "22451/22451 [==============================] - 2200s 98ms/step - loss: 0.3096 - acc: 0.8641 - val_loss: 0.3619 - val_acc: 0.8385\n",
      "Epoch 6/10\n",
      "22451/22451 [==============================] - 2159s 96ms/step - loss: 0.2778 - acc: 0.8815 - val_loss: 0.3510 - val_acc: 0.8425\n",
      "Epoch 7/10\n",
      "22451/22451 [==============================] - 2169s 97ms/step - loss: 0.2330 - acc: 0.9031 - val_loss: 0.3218 - val_acc: 0.8597\n",
      "Epoch 8/10\n",
      "22451/22451 [==============================] - 2198s 98ms/step - loss: 0.2077 - acc: 0.9119 - val_loss: 0.3482 - val_acc: 0.8561\n",
      "Epoch 9/10\n",
      "22451/22451 [==============================] - 2186s 97ms/step - loss: 0.1719 - acc: 0.9291 - val_loss: 0.4243 - val_acc: 0.8409\n",
      "Epoch 10/10\n",
      "22451/22451 [==============================] - 2160s 96ms/step - loss: 0.1476 - acc: 0.9403 - val_loss: 0.4011 - val_acc: 0.8437\n"
     ]
    },
    {
     "data": {
      "text/plain": [
       "<tensorflow.python.keras.callbacks.History at 0x1d483377128>"
      ]
     },
     "execution_count": 3,
     "metadata": {},
     "output_type": "execute_result"
    }
   ],
   "source": [
    "x= x/255.0\n",
    "model= Sequential()\n",
    "model.add(Conv2D(128,(3,3),input_shape= x.shape[1:]))\n",
    "model.add(Activation(\"relu\"))\n",
    "model.add(MaxPooling2D(pool_size=(2,2)))\n",
    "\n",
    "model.add(Conv2D(128,(3,3)))\n",
    "model.add(Activation(\"relu\"))\n",
    "model.add(MaxPooling2D(pool_size=(2,2)))\n",
    "\n",
    "model.add(Conv2D(128,(3,3)))\n",
    "model.add(Activation(\"relu\"))\n",
    "model.add(MaxPooling2D(pool_size=(2,2)))\n",
    "\n",
    "model.add(Conv2D(128,(3,3)))\n",
    "model.add(Activation(\"relu\"))\n",
    "model.add(MaxPooling2D(pool_size=(2,2)))\n",
    "\n",
    "model.add(Flatten())\n",
    "model.add(Dense(64))\n",
    "\n",
    "model.add(Dense(1))\n",
    "model.add(Activation('sigmoid'))\n",
    "\n",
    "model.compile(loss=\"binary_crossentropy\",\n",
    "             optimizer= \"adam\",\n",
    "             metrics=[\"accuracy\"])\n",
    "\n",
    "model.fit(x,y, batch_size=32,epochs=10, validation_split=0.1)"
   ]
  },
  {
   "cell_type": "code",
   "execution_count": null,
   "metadata": {},
   "outputs": [],
   "source": []
  }
 ],
 "metadata": {
  "kernelspec": {
   "display_name": "Python 3",
   "language": "python",
   "name": "python3"
  },
  "language_info": {
   "codemirror_mode": {
    "name": "ipython",
    "version": 3
   },
   "file_extension": ".py",
   "mimetype": "text/x-python",
   "name": "python",
   "nbconvert_exporter": "python",
   "pygments_lexer": "ipython3",
   "version": "3.6.6"
  }
 },
 "nbformat": 4,
 "nbformat_minor": 2
}
